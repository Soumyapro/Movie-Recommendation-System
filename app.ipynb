{
 "cells": [
  {
   "cell_type": "code",
   "execution_count": 1,
   "metadata": {},
   "outputs": [
    {
     "ename": "ImportError",
     "evalue": "DLL load failed while importing _openmp_helpers: %1 is not a valid Win32 application.",
     "output_type": "error",
     "traceback": [
      "\u001b[1;31m---------------------------------------------------------------------------\u001b[0m",
      "\u001b[1;31mImportError\u001b[0m                               Traceback (most recent call last)",
      "\u001b[1;32m<ipython-input-1-ed7c4f6abf45>\u001b[0m in \u001b[0;36m<module>\u001b[1;34m\u001b[0m\n\u001b[0;32m      2\u001b[0m \u001b[1;32mimport\u001b[0m \u001b[0mpandas\u001b[0m \u001b[1;32mas\u001b[0m \u001b[0mpd\u001b[0m\u001b[1;33m\u001b[0m\u001b[1;33m\u001b[0m\u001b[0m\n\u001b[0;32m      3\u001b[0m \u001b[1;32mimport\u001b[0m \u001b[0mdifflib\u001b[0m\u001b[1;33m\u001b[0m\u001b[1;33m\u001b[0m\u001b[0m\n\u001b[1;32m----> 4\u001b[1;33m \u001b[1;32mfrom\u001b[0m \u001b[0msklearn\u001b[0m\u001b[1;33m.\u001b[0m\u001b[0mfeature_extraction\u001b[0m\u001b[1;33m.\u001b[0m\u001b[0mtext\u001b[0m \u001b[1;32mimport\u001b[0m \u001b[0mTfidfVectorizer\u001b[0m\u001b[1;33m\u001b[0m\u001b[1;33m\u001b[0m\u001b[0m\n\u001b[0m\u001b[0;32m      5\u001b[0m \u001b[1;32mfrom\u001b[0m \u001b[0msklearn\u001b[0m\u001b[1;33m.\u001b[0m\u001b[0mmetrics\u001b[0m\u001b[1;33m.\u001b[0m\u001b[0mpairwise\u001b[0m \u001b[1;32mimport\u001b[0m \u001b[0mcosine_similarity\u001b[0m\u001b[1;33m\u001b[0m\u001b[1;33m\u001b[0m\u001b[0m\n",
      "\u001b[1;32m~\\anaconda3\\lib\\site-packages\\sklearn\\__init__.py\u001b[0m in \u001b[0;36m<module>\u001b[1;34m\u001b[0m\n\u001b[0;32m     79\u001b[0m     \u001b[1;32mfrom\u001b[0m \u001b[1;33m.\u001b[0m \u001b[1;32mimport\u001b[0m \u001b[0m__check_build\u001b[0m  \u001b[1;31m# noqa: F401\u001b[0m\u001b[1;33m\u001b[0m\u001b[1;33m\u001b[0m\u001b[0m\n\u001b[0;32m     80\u001b[0m     \u001b[1;32mfrom\u001b[0m \u001b[1;33m.\u001b[0m\u001b[0mbase\u001b[0m \u001b[1;32mimport\u001b[0m \u001b[0mclone\u001b[0m\u001b[1;33m\u001b[0m\u001b[1;33m\u001b[0m\u001b[0m\n\u001b[1;32m---> 81\u001b[1;33m     \u001b[1;32mfrom\u001b[0m \u001b[1;33m.\u001b[0m\u001b[0mutils\u001b[0m\u001b[1;33m.\u001b[0m\u001b[0m_show_versions\u001b[0m \u001b[1;32mimport\u001b[0m \u001b[0mshow_versions\u001b[0m\u001b[1;33m\u001b[0m\u001b[1;33m\u001b[0m\u001b[0m\n\u001b[0m\u001b[0;32m     82\u001b[0m \u001b[1;33m\u001b[0m\u001b[0m\n\u001b[0;32m     83\u001b[0m     __all__ = ['calibration', 'cluster', 'covariance', 'cross_decomposition',\n",
      "\u001b[1;32m~\\anaconda3\\lib\\site-packages\\sklearn\\utils\\_show_versions.py\u001b[0m in \u001b[0;36m<module>\u001b[1;34m\u001b[0m\n\u001b[0;32m     10\u001b[0m \u001b[1;32mimport\u001b[0m \u001b[0mimportlib\u001b[0m\u001b[1;33m\u001b[0m\u001b[1;33m\u001b[0m\u001b[0m\n\u001b[0;32m     11\u001b[0m \u001b[1;33m\u001b[0m\u001b[0m\n\u001b[1;32m---> 12\u001b[1;33m \u001b[1;32mfrom\u001b[0m \u001b[1;33m.\u001b[0m\u001b[0m_openmp_helpers\u001b[0m \u001b[1;32mimport\u001b[0m \u001b[0m_openmp_parallelism_enabled\u001b[0m\u001b[1;33m\u001b[0m\u001b[1;33m\u001b[0m\u001b[0m\n\u001b[0m\u001b[0;32m     13\u001b[0m \u001b[1;33m\u001b[0m\u001b[0m\n\u001b[0;32m     14\u001b[0m \u001b[1;33m\u001b[0m\u001b[0m\n",
      "\u001b[1;31mImportError\u001b[0m: DLL load failed while importing _openmp_helpers: %1 is not a valid Win32 application."
     ]
    }
   ],
   "source": [
    "import numpy as np\n",
    "import pandas as pd\n",
    "import difflib\n",
    "from sklearn.feature_extraction.text import TfidfVectorizer\n",
    "from sklearn.metrics.pairwise import cosine_similarity"
   ]
  },
  {
   "cell_type": "code",
   "execution_count": 2,
   "metadata": {},
   "outputs": [],
   "source": [
    "movieData = pd.read_csv('movies.csv')"
   ]
  },
  {
   "cell_type": "code",
   "execution_count": 11,
   "metadata": {},
   "outputs": [
    {
     "name": "stdout",
     "output_type": "stream",
     "text": [
      "      index     budget                                    genres  \\\n",
      "0         0  237000000  Action Adventure Fantasy Science Fiction   \n",
      "1         1  300000000                  Adventure Fantasy Action   \n",
      "2         2  245000000                    Action Adventure Crime   \n",
      "3         3  250000000               Action Crime Drama Thriller   \n",
      "4         4  260000000          Action Adventure Science Fiction   \n",
      "...     ...        ...                                       ...   \n",
      "4798   4798     220000                     Action Crime Thriller   \n",
      "4799   4799       9000                            Comedy Romance   \n",
      "4800   4800          0             Comedy Drama Romance TV Movie   \n",
      "4801   4801          0                                             \n",
      "4802   4802          0                               Documentary   \n",
      "\n",
      "                                               homepage      id  \\\n",
      "0                           http://www.avatarmovie.com/   19995   \n",
      "1          http://disney.go.com/disneypictures/pirates/     285   \n",
      "2           http://www.sonypictures.com/movies/spectre/  206647   \n",
      "3                    http://www.thedarkknightrises.com/   49026   \n",
      "4                  http://movies.disney.com/john-carter   49529   \n",
      "...                                                 ...     ...   \n",
      "4798                                                NaN    9367   \n",
      "4799                                                NaN   72766   \n",
      "4800  http://www.hallmarkchannel.com/signedsealeddel...  231617   \n",
      "4801                        http://shanghaicalling.com/  126186   \n",
      "4802                                                NaN   25975   \n",
      "\n",
      "                                               keywords original_language  \\\n",
      "0     culture clash future space war space colony so...                en   \n",
      "1     ocean drug abuse exotic island east india trad...                en   \n",
      "2            spy based on novel secret agent sequel mi6                en   \n",
      "3     dc comics crime fighter terrorist secret ident...                en   \n",
      "4     based on novel mars medallion space travel pri...                en   \n",
      "...                                                 ...               ...   \n",
      "4798  united states\\u2013mexico barrier legs arms pa...                es   \n",
      "4799                                                                   en   \n",
      "4800  date love at first sight narration investigati...                en   \n",
      "4801                                                                   en   \n",
      "4802               obsession camcorder crush dream girl                en   \n",
      "\n",
      "                                original_title  \\\n",
      "0                                       Avatar   \n",
      "1     Pirates of the Caribbean: At World's End   \n",
      "2                                      Spectre   \n",
      "3                        The Dark Knight Rises   \n",
      "4                                  John Carter   \n",
      "...                                        ...   \n",
      "4798                               El Mariachi   \n",
      "4799                                 Newlyweds   \n",
      "4800                 Signed, Sealed, Delivered   \n",
      "4801                          Shanghai Calling   \n",
      "4802                         My Date with Drew   \n",
      "\n",
      "                                               overview  popularity  ...  \\\n",
      "0     In the 22nd century, a paraplegic Marine is di...  150.437577  ...   \n",
      "1     Captain Barbossa, long believed to be dead, ha...  139.082615  ...   \n",
      "2     A cryptic message from Bond’s past sends him o...  107.376788  ...   \n",
      "3     Following the death of District Attorney Harve...  112.312950  ...   \n",
      "4     John Carter is a war-weary, former military ca...   43.926995  ...   \n",
      "...                                                 ...         ...  ...   \n",
      "4798  El Mariachi just wants to play his guitar and ...   14.269792  ...   \n",
      "4799  A newlywed couple's honeymoon is upended by th...    0.642552  ...   \n",
      "4800  \"Signed, Sealed, Delivered\" introduces a dedic...    1.444476  ...   \n",
      "4801  When ambitious New York attorney Sam is sent t...    0.857008  ...   \n",
      "4802  Ever since the second grade when he first saw ...    1.929883  ...   \n",
      "\n",
      "     runtime                                   spoken_languages    status  \\\n",
      "0      162.0  [{\"iso_639_1\": \"en\", \"name\": \"English\"}, {\"iso...  Released   \n",
      "1      169.0           [{\"iso_639_1\": \"en\", \"name\": \"English\"}]  Released   \n",
      "2      148.0  [{\"iso_639_1\": \"fr\", \"name\": \"Fran\\u00e7ais\"},...  Released   \n",
      "3      165.0           [{\"iso_639_1\": \"en\", \"name\": \"English\"}]  Released   \n",
      "4      132.0           [{\"iso_639_1\": \"en\", \"name\": \"English\"}]  Released   \n",
      "...      ...                                                ...       ...   \n",
      "4798    81.0      [{\"iso_639_1\": \"es\", \"name\": \"Espa\\u00f1ol\"}]  Released   \n",
      "4799    85.0                                                 []  Released   \n",
      "4800   120.0           [{\"iso_639_1\": \"en\", \"name\": \"English\"}]  Released   \n",
      "4801    98.0           [{\"iso_639_1\": \"en\", \"name\": \"English\"}]  Released   \n",
      "4802    90.0           [{\"iso_639_1\": \"en\", \"name\": \"English\"}]  Released   \n",
      "\n",
      "                                                tagline  \\\n",
      "0                           Enter the World of Pandora.   \n",
      "1        At the end of the world, the adventure begins.   \n",
      "2                                 A Plan No One Escapes   \n",
      "3                                       The Legend Ends   \n",
      "4                  Lost in our world, found in another.   \n",
      "...                                                 ...   \n",
      "4798  He didn't come looking for trouble, but troubl...   \n",
      "4799  A newlywed couple's honeymoon is upended by th...   \n",
      "4800                                                      \n",
      "4801                           A New Yorker in Shanghai   \n",
      "4802                                                      \n",
      "\n",
      "                                         title vote_average vote_count  \\\n",
      "0                                       Avatar          7.2      11800   \n",
      "1     Pirates of the Caribbean: At World's End          6.9       4500   \n",
      "2                                      Spectre          6.3       4466   \n",
      "3                        The Dark Knight Rises          7.6       9106   \n",
      "4                                  John Carter          6.1       2124   \n",
      "...                                        ...          ...        ...   \n",
      "4798                               El Mariachi          6.6        238   \n",
      "4799                                 Newlyweds          5.9          5   \n",
      "4800                 Signed, Sealed, Delivered          7.0          6   \n",
      "4801                          Shanghai Calling          5.7          7   \n",
      "4802                         My Date with Drew          6.3         16   \n",
      "\n",
      "                                                   cast  \\\n",
      "0     Sam Worthington Zoe Saldana Sigourney Weaver S...   \n",
      "1     Johnny Depp Orlando Bloom Keira Knightley Stel...   \n",
      "2     Daniel Craig Christoph Waltz L\\u00e9a Seydoux ...   \n",
      "3     Christian Bale Michael Caine Gary Oldman Anne ...   \n",
      "4     Taylor Kitsch Lynn Collins Samantha Morton Wil...   \n",
      "...                                                 ...   \n",
      "4798  Carlos Gallardo Jaime de Hoyos Peter Marquardt...   \n",
      "4799  Edward Burns Kerry Bish\\u00e9 Marsha Dietlein ...   \n",
      "4800  Eric Mabius Kristin Booth Crystal Lowe Geoff G...   \n",
      "4801  Daniel Henney Eliza Coupe Bill Paxton Alan Ruc...   \n",
      "4802  Drew Barrymore Brian Herzlinger Corey Feldman ...   \n",
      "\n",
      "                                                   crew           director  \n",
      "0     [{'name': 'Stephen E. Rivkin', 'gender': 0, 'd...      James Cameron  \n",
      "1     [{'name': 'Dariusz Wolski', 'gender': 2, 'depa...     Gore Verbinski  \n",
      "2     [{'name': 'Thomas Newman', 'gender': 2, 'depar...         Sam Mendes  \n",
      "3     [{'name': 'Hans Zimmer', 'gender': 2, 'departm...  Christopher Nolan  \n",
      "4     [{'name': 'Andrew Stanton', 'gender': 2, 'depa...     Andrew Stanton  \n",
      "...                                                 ...                ...  \n",
      "4798  [{'name': 'Robert Rodriguez', 'gender': 0, 'de...   Robert Rodriguez  \n",
      "4799  [{'name': 'Edward Burns', 'gender': 2, 'depart...       Edward Burns  \n",
      "4800  [{'name': 'Carla Hetland', 'gender': 0, 'depar...        Scott Smith  \n",
      "4801  [{'name': 'Daniel Hsia', 'gender': 2, 'departm...        Daniel Hsia  \n",
      "4802  [{'name': 'Clark Peterson', 'gender': 2, 'depa...   Brian Herzlinger  \n",
      "\n",
      "[4803 rows x 24 columns]\n"
     ]
    }
   ],
   "source": [
    "print(movieData)"
   ]
  },
  {
   "cell_type": "code",
   "execution_count": 4,
   "metadata": {},
   "outputs": [
    {
     "name": "stdout",
     "output_type": "stream",
     "text": [
      "(4803, 24)\n"
     ]
    }
   ],
   "source": [
    "#printing the shape \n",
    "print(movieData.shape)"
   ]
  },
  {
   "cell_type": "code",
   "execution_count": 5,
   "metadata": {},
   "outputs": [
    {
     "name": "stdout",
     "output_type": "stream",
     "text": [
      "['genres', 'keywords', 'tagline', 'cast', 'director', 'overview']\n"
     ]
    }
   ],
   "source": [
    "#feature selection from our dataframe\n",
    "\n",
    "selected_features = ['genres','keywords','tagline','cast','director','overview']\n",
    "print(selected_features)"
   ]
  },
  {
   "cell_type": "code",
   "execution_count": 6,
   "metadata": {},
   "outputs": [],
   "source": [
    "#replacing all num values present in our selected features\n",
    "\n",
    "for f in selected_features:\n",
    "    \n",
    "    movieData[f] = movieData[f].fillna(' ')\n",
    "    "
   ]
  },
  {
   "cell_type": "code",
   "execution_count": 7,
   "metadata": {},
   "outputs": [
    {
     "name": "stdout",
     "output_type": "stream",
     "text": [
      "0       Action Adventure Fantasy Science Fiction cultu...\n",
      "1       Adventure Fantasy Action ocean drug abuse exot...\n",
      "2       Action Adventure Crime spy based on novel secr...\n",
      "3       Action Crime Drama Thriller dc comics crime fi...\n",
      "4       Action Adventure Science Fiction based on nove...\n",
      "                              ...                        \n",
      "4798    Action Crime Thriller united states\\u2013mexic...\n",
      "4799    Comedy Romance   A newlywed couple's honeymoon...\n",
      "4800    Comedy Drama Romance TV Movie date love at fir...\n",
      "4801        A New Yorker in Shanghai Daniel Henney Eli...\n",
      "4802    Documentary obsession camcorder crush dream gi...\n",
      "Length: 4803, dtype: object\n"
     ]
    }
   ],
   "source": [
    "#combining all columns of the selected features\n",
    "\n",
    "combined = movieData['genres'] + ' ' + movieData['keywords'] + ' ' + movieData['tagline'] + ' ' + movieData['cast'] + ' ' + movieData['director'] + ' ' + movieData['overview']\n",
    "print(combined)"
   ]
  },
  {
   "cell_type": "code",
   "execution_count": 8,
   "metadata": {
    "scrolled": true
   },
   "outputs": [
    {
     "ename": "NameError",
     "evalue": "name 'TfidfVectorizer' is not defined",
     "output_type": "error",
     "traceback": [
      "\u001b[1;31m---------------------------------------------------------------------------\u001b[0m",
      "\u001b[1;31mNameError\u001b[0m                                 Traceback (most recent call last)",
      "\u001b[1;32m<ipython-input-8-7ee4f96336cb>\u001b[0m in \u001b[0;36m<module>\u001b[1;34m\u001b[0m\n\u001b[1;32m----> 1\u001b[1;33m \u001b[0mvectorizer\u001b[0m \u001b[1;33m=\u001b[0m \u001b[0mTfidfVectorizer\u001b[0m\u001b[1;33m(\u001b[0m\u001b[1;33m)\u001b[0m\u001b[1;33m\u001b[0m\u001b[1;33m\u001b[0m\u001b[0m\n\u001b[0m",
      "\u001b[1;31mNameError\u001b[0m: name 'TfidfVectorizer' is not defined"
     ]
    }
   ],
   "source": [
    "vectorizer = TfidfVectorizer()"
   ]
  },
  {
   "cell_type": "code",
   "execution_count": 9,
   "metadata": {
    "scrolled": true
   },
   "outputs": [
    {
     "ename": "NameError",
     "evalue": "name 'vectorizer' is not defined",
     "output_type": "error",
     "traceback": [
      "\u001b[1;31m---------------------------------------------------------------------------\u001b[0m",
      "\u001b[1;31mNameError\u001b[0m                                 Traceback (most recent call last)",
      "\u001b[1;32m<ipython-input-9-b1338d3858b3>\u001b[0m in \u001b[0;36m<module>\u001b[1;34m\u001b[0m\n\u001b[1;32m----> 1\u001b[1;33m \u001b[0mfeature_vectors\u001b[0m \u001b[1;33m=\u001b[0m \u001b[0mvectorizer\u001b[0m \u001b[1;33m.\u001b[0m\u001b[0mfit_transform\u001b[0m\u001b[1;33m(\u001b[0m\u001b[0mcombined\u001b[0m\u001b[1;33m)\u001b[0m\u001b[1;33m\u001b[0m\u001b[1;33m\u001b[0m\u001b[0m\n\u001b[0m",
      "\u001b[1;31mNameError\u001b[0m: name 'vectorizer' is not defined"
     ]
    }
   ],
   "source": [
    "feature_vectors = vectorizer .fit_transform(combined)"
   ]
  },
  {
   "cell_type": "code",
   "execution_count": 10,
   "metadata": {},
   "outputs": [
    {
     "ename": "NameError",
     "evalue": "name 'feature_vectors' is not defined",
     "output_type": "error",
     "traceback": [
      "\u001b[1;31m---------------------------------------------------------------------------\u001b[0m",
      "\u001b[1;31mNameError\u001b[0m                                 Traceback (most recent call last)",
      "\u001b[1;32m<ipython-input-10-aa992a8dad5c>\u001b[0m in \u001b[0;36m<module>\u001b[1;34m\u001b[0m\n\u001b[1;32m----> 1\u001b[1;33m \u001b[0mprint\u001b[0m\u001b[1;33m(\u001b[0m\u001b[0mfeature_vectors\u001b[0m\u001b[1;33m)\u001b[0m\u001b[1;33m\u001b[0m\u001b[1;33m\u001b[0m\u001b[0m\n\u001b[0m",
      "\u001b[1;31mNameError\u001b[0m: name 'feature_vectors' is not defined"
     ]
    }
   ],
   "source": [
    "print(feature_vectors)"
   ]
  },
  {
   "cell_type": "code",
   "execution_count": null,
   "metadata": {},
   "outputs": [],
   "source": []
  }
 ],
 "metadata": {
  "kernelspec": {
   "display_name": "Python 3",
   "language": "python",
   "name": "python3"
  },
  "language_info": {
   "codemirror_mode": {
    "name": "ipython",
    "version": 3
   },
   "file_extension": ".py",
   "mimetype": "text/x-python",
   "name": "python",
   "nbconvert_exporter": "python",
   "pygments_lexer": "ipython3",
   "version": "3.8.5"
  }
 },
 "nbformat": 4,
 "nbformat_minor": 4
}
